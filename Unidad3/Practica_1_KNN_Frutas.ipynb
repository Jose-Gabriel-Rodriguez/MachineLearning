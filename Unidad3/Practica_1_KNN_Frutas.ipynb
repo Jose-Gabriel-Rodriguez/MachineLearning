{
  "cells": [
    {
      "cell_type": "markdown",
      "metadata": {
        "id": "view-in-github",
        "colab_type": "text"
      },
      "source": [
        "<a href=\"https://colab.research.google.com/github/Jose-Gabriel-Rodriguez/MachineLearning/blob/main/Unidad3/Practica_1_KNN_Frutas.ipynb\" target=\"_parent\"><img src=\"https://colab.research.google.com/assets/colab-badge.svg\" alt=\"Open In Colab\"/></a>"
      ]
    },
    {
      "cell_type": "markdown",
      "id": "e2cfa4c4",
      "metadata": {
        "id": "e2cfa4c4"
      },
      "source": [
        "![image](https://github.com/JoseGabriel-ITD/Probabilidad-y-Estadistica/blob/main/Cintilla2004.png?raw=true)\n",
        "\n",
        "# **Machine Learning y Deep Learning**\n",
        "\n",
        "## Unidad 3\n",
        "\n",
        "### Practica 1: **Algortimo K-NN, los K-Vecinos mas Cercanos**\n",
        "\n",
        "### Facilitador: *Dr. José Gabriel Rodríguez Rivas*\n",
        "\n",
        "### Alumno:  _____________"
      ]
    },
    {
      "cell_type": "markdown",
      "id": "82c2cc46",
      "metadata": {
        "id": "82c2cc46"
      },
      "source": [
        "\n",
        "## **Practica 1: Algortimo K-NN, los K-Vecinos mas Cercanos**\n",
        "\n",
        "\n",
        "### **Funcionamiento**\n",
        "Dado un conjunto de entrenamiento **X_train** con etiquetas **y_train** y dada una nueva instancia x_test se va a clasificar:\n",
        "\n",
        "1. Encontar las instancias más similares (llamémoslas X_NN) a x_test que están en X_train.\n",
        "2. Obtenga las etiquetas y_NN para las instancias de X_NN\n",
        "3. Prediga la etiqueta para x_test combinando las etiquetas y_NN por ejemplo, mayoría simple de votos\n",
        "\n",
        "**Un algoritmo de K-vecinos más cercanos necesita cuatro cosas especificas**\n",
        "1. Una métrica de distancia\n",
        "2. ¿Cuántos vecinos \"más cercanos\" hay que mirar?\n",
        "3. Función de ponderación opcional en los puntos vecinos\n",
        "4. Método para agregar las clases de puntos vecinos\n",
        "\n"
      ]
    },
    {
      "cell_type": "markdown",
      "id": "09772b59",
      "metadata": {
        "id": "09772b59"
      },
      "source": [
        "## **Fruit dataset**\n",
        "\n",
        "\n",
        "- Es uno de los conjuntos de datos más conocidos en el mundo del aprendizaje automático y la ciencia de datos.\n",
        "\n",
        "- Consta de 59 registros con 4 tipos de frutas\n",
        "\n"
      ]
    },
    {
      "cell_type": "code",
      "execution_count": 2,
      "id": "6d70e6c1",
      "metadata": {
        "id": "6d70e6c1"
      },
      "outputs": [],
      "source": [
        "# Importar librerias\n",
        "\n",
        "import pandas as pd\n",
        "import matplotlib.pyplot as plt\n",
        "import seaborn as sns\n",
        "import plotly.express as px\n",
        "\n",
        "from sklearn.model_selection import train_test_split\n",
        "from sklearn.neighbors import KNeighborsClassifier\n",
        "from sklearn.metrics import classification_report, confusion_matrix"
      ]
    },
    {
      "cell_type": "code",
      "execution_count": 3,
      "id": "6cc52f31",
      "metadata": {
        "id": "6cc52f31",
        "outputId": "34f5c935-1fd8-4c26-a063-62432eb8b933",
        "colab": {
          "base_uri": "https://localhost:8080/",
          "height": 206
        }
      },
      "outputs": [
        {
          "output_type": "execute_result",
          "data": {
            "text/plain": [
              "   fruit_label fruit_name fruit_subtype  mass  width  height  color_score\n",
              "0            1      apple  granny_smith   192    8.4     7.3         0.55\n",
              "1            1      apple  granny_smith   180    8.0     6.8         0.59\n",
              "2            1      apple  granny_smith   176    7.4     7.2         0.60\n",
              "3            2   mandarin      mandarin    86    6.2     4.7         0.80\n",
              "4            2   mandarin      mandarin    84    6.0     4.6         0.79"
            ],
            "text/html": [
              "\n",
              "  <div id=\"df-91ebf0e4-842a-46c0-acf8-c914080f48c6\" class=\"colab-df-container\">\n",
              "    <div>\n",
              "<style scoped>\n",
              "    .dataframe tbody tr th:only-of-type {\n",
              "        vertical-align: middle;\n",
              "    }\n",
              "\n",
              "    .dataframe tbody tr th {\n",
              "        vertical-align: top;\n",
              "    }\n",
              "\n",
              "    .dataframe thead th {\n",
              "        text-align: right;\n",
              "    }\n",
              "</style>\n",
              "<table border=\"1\" class=\"dataframe\">\n",
              "  <thead>\n",
              "    <tr style=\"text-align: right;\">\n",
              "      <th></th>\n",
              "      <th>fruit_label</th>\n",
              "      <th>fruit_name</th>\n",
              "      <th>fruit_subtype</th>\n",
              "      <th>mass</th>\n",
              "      <th>width</th>\n",
              "      <th>height</th>\n",
              "      <th>color_score</th>\n",
              "    </tr>\n",
              "  </thead>\n",
              "  <tbody>\n",
              "    <tr>\n",
              "      <th>0</th>\n",
              "      <td>1</td>\n",
              "      <td>apple</td>\n",
              "      <td>granny_smith</td>\n",
              "      <td>192</td>\n",
              "      <td>8.4</td>\n",
              "      <td>7.3</td>\n",
              "      <td>0.55</td>\n",
              "    </tr>\n",
              "    <tr>\n",
              "      <th>1</th>\n",
              "      <td>1</td>\n",
              "      <td>apple</td>\n",
              "      <td>granny_smith</td>\n",
              "      <td>180</td>\n",
              "      <td>8.0</td>\n",
              "      <td>6.8</td>\n",
              "      <td>0.59</td>\n",
              "    </tr>\n",
              "    <tr>\n",
              "      <th>2</th>\n",
              "      <td>1</td>\n",
              "      <td>apple</td>\n",
              "      <td>granny_smith</td>\n",
              "      <td>176</td>\n",
              "      <td>7.4</td>\n",
              "      <td>7.2</td>\n",
              "      <td>0.60</td>\n",
              "    </tr>\n",
              "    <tr>\n",
              "      <th>3</th>\n",
              "      <td>2</td>\n",
              "      <td>mandarin</td>\n",
              "      <td>mandarin</td>\n",
              "      <td>86</td>\n",
              "      <td>6.2</td>\n",
              "      <td>4.7</td>\n",
              "      <td>0.80</td>\n",
              "    </tr>\n",
              "    <tr>\n",
              "      <th>4</th>\n",
              "      <td>2</td>\n",
              "      <td>mandarin</td>\n",
              "      <td>mandarin</td>\n",
              "      <td>84</td>\n",
              "      <td>6.0</td>\n",
              "      <td>4.6</td>\n",
              "      <td>0.79</td>\n",
              "    </tr>\n",
              "  </tbody>\n",
              "</table>\n",
              "</div>\n",
              "    <div class=\"colab-df-buttons\">\n",
              "\n",
              "  <div class=\"colab-df-container\">\n",
              "    <button class=\"colab-df-convert\" onclick=\"convertToInteractive('df-91ebf0e4-842a-46c0-acf8-c914080f48c6')\"\n",
              "            title=\"Convert this dataframe to an interactive table.\"\n",
              "            style=\"display:none;\">\n",
              "\n",
              "  <svg xmlns=\"http://www.w3.org/2000/svg\" height=\"24px\" viewBox=\"0 -960 960 960\">\n",
              "    <path d=\"M120-120v-720h720v720H120Zm60-500h600v-160H180v160Zm220 220h160v-160H400v160Zm0 220h160v-160H400v160ZM180-400h160v-160H180v160Zm440 0h160v-160H620v160ZM180-180h160v-160H180v160Zm440 0h160v-160H620v160Z\"/>\n",
              "  </svg>\n",
              "    </button>\n",
              "\n",
              "  <style>\n",
              "    .colab-df-container {\n",
              "      display:flex;\n",
              "      gap: 12px;\n",
              "    }\n",
              "\n",
              "    .colab-df-convert {\n",
              "      background-color: #E8F0FE;\n",
              "      border: none;\n",
              "      border-radius: 50%;\n",
              "      cursor: pointer;\n",
              "      display: none;\n",
              "      fill: #1967D2;\n",
              "      height: 32px;\n",
              "      padding: 0 0 0 0;\n",
              "      width: 32px;\n",
              "    }\n",
              "\n",
              "    .colab-df-convert:hover {\n",
              "      background-color: #E2EBFA;\n",
              "      box-shadow: 0px 1px 2px rgba(60, 64, 67, 0.3), 0px 1px 3px 1px rgba(60, 64, 67, 0.15);\n",
              "      fill: #174EA6;\n",
              "    }\n",
              "\n",
              "    .colab-df-buttons div {\n",
              "      margin-bottom: 4px;\n",
              "    }\n",
              "\n",
              "    [theme=dark] .colab-df-convert {\n",
              "      background-color: #3B4455;\n",
              "      fill: #D2E3FC;\n",
              "    }\n",
              "\n",
              "    [theme=dark] .colab-df-convert:hover {\n",
              "      background-color: #434B5C;\n",
              "      box-shadow: 0px 1px 3px 1px rgba(0, 0, 0, 0.15);\n",
              "      filter: drop-shadow(0px 1px 2px rgba(0, 0, 0, 0.3));\n",
              "      fill: #FFFFFF;\n",
              "    }\n",
              "  </style>\n",
              "\n",
              "    <script>\n",
              "      const buttonEl =\n",
              "        document.querySelector('#df-91ebf0e4-842a-46c0-acf8-c914080f48c6 button.colab-df-convert');\n",
              "      buttonEl.style.display =\n",
              "        google.colab.kernel.accessAllowed ? 'block' : 'none';\n",
              "\n",
              "      async function convertToInteractive(key) {\n",
              "        const element = document.querySelector('#df-91ebf0e4-842a-46c0-acf8-c914080f48c6');\n",
              "        const dataTable =\n",
              "          await google.colab.kernel.invokeFunction('convertToInteractive',\n",
              "                                                    [key], {});\n",
              "        if (!dataTable) return;\n",
              "\n",
              "        const docLinkHtml = 'Like what you see? Visit the ' +\n",
              "          '<a target=\"_blank\" href=https://colab.research.google.com/notebooks/data_table.ipynb>data table notebook</a>'\n",
              "          + ' to learn more about interactive tables.';\n",
              "        element.innerHTML = '';\n",
              "        dataTable['output_type'] = 'display_data';\n",
              "        await google.colab.output.renderOutput(dataTable, element);\n",
              "        const docLink = document.createElement('div');\n",
              "        docLink.innerHTML = docLinkHtml;\n",
              "        element.appendChild(docLink);\n",
              "      }\n",
              "    </script>\n",
              "  </div>\n",
              "\n",
              "\n",
              "    <div id=\"df-fc923eb7-6ddc-44e5-b4dd-265992399baf\">\n",
              "      <button class=\"colab-df-quickchart\" onclick=\"quickchart('df-fc923eb7-6ddc-44e5-b4dd-265992399baf')\"\n",
              "                title=\"Suggest charts\"\n",
              "                style=\"display:none;\">\n",
              "\n",
              "<svg xmlns=\"http://www.w3.org/2000/svg\" height=\"24px\"viewBox=\"0 0 24 24\"\n",
              "     width=\"24px\">\n",
              "    <g>\n",
              "        <path d=\"M19 3H5c-1.1 0-2 .9-2 2v14c0 1.1.9 2 2 2h14c1.1 0 2-.9 2-2V5c0-1.1-.9-2-2-2zM9 17H7v-7h2v7zm4 0h-2V7h2v10zm4 0h-2v-4h2v4z\"/>\n",
              "    </g>\n",
              "</svg>\n",
              "      </button>\n",
              "\n",
              "<style>\n",
              "  .colab-df-quickchart {\n",
              "      --bg-color: #E8F0FE;\n",
              "      --fill-color: #1967D2;\n",
              "      --hover-bg-color: #E2EBFA;\n",
              "      --hover-fill-color: #174EA6;\n",
              "      --disabled-fill-color: #AAA;\n",
              "      --disabled-bg-color: #DDD;\n",
              "  }\n",
              "\n",
              "  [theme=dark] .colab-df-quickchart {\n",
              "      --bg-color: #3B4455;\n",
              "      --fill-color: #D2E3FC;\n",
              "      --hover-bg-color: #434B5C;\n",
              "      --hover-fill-color: #FFFFFF;\n",
              "      --disabled-bg-color: #3B4455;\n",
              "      --disabled-fill-color: #666;\n",
              "  }\n",
              "\n",
              "  .colab-df-quickchart {\n",
              "    background-color: var(--bg-color);\n",
              "    border: none;\n",
              "    border-radius: 50%;\n",
              "    cursor: pointer;\n",
              "    display: none;\n",
              "    fill: var(--fill-color);\n",
              "    height: 32px;\n",
              "    padding: 0;\n",
              "    width: 32px;\n",
              "  }\n",
              "\n",
              "  .colab-df-quickchart:hover {\n",
              "    background-color: var(--hover-bg-color);\n",
              "    box-shadow: 0 1px 2px rgba(60, 64, 67, 0.3), 0 1px 3px 1px rgba(60, 64, 67, 0.15);\n",
              "    fill: var(--button-hover-fill-color);\n",
              "  }\n",
              "\n",
              "  .colab-df-quickchart-complete:disabled,\n",
              "  .colab-df-quickchart-complete:disabled:hover {\n",
              "    background-color: var(--disabled-bg-color);\n",
              "    fill: var(--disabled-fill-color);\n",
              "    box-shadow: none;\n",
              "  }\n",
              "\n",
              "  .colab-df-spinner {\n",
              "    border: 2px solid var(--fill-color);\n",
              "    border-color: transparent;\n",
              "    border-bottom-color: var(--fill-color);\n",
              "    animation:\n",
              "      spin 1s steps(1) infinite;\n",
              "  }\n",
              "\n",
              "  @keyframes spin {\n",
              "    0% {\n",
              "      border-color: transparent;\n",
              "      border-bottom-color: var(--fill-color);\n",
              "      border-left-color: var(--fill-color);\n",
              "    }\n",
              "    20% {\n",
              "      border-color: transparent;\n",
              "      border-left-color: var(--fill-color);\n",
              "      border-top-color: var(--fill-color);\n",
              "    }\n",
              "    30% {\n",
              "      border-color: transparent;\n",
              "      border-left-color: var(--fill-color);\n",
              "      border-top-color: var(--fill-color);\n",
              "      border-right-color: var(--fill-color);\n",
              "    }\n",
              "    40% {\n",
              "      border-color: transparent;\n",
              "      border-right-color: var(--fill-color);\n",
              "      border-top-color: var(--fill-color);\n",
              "    }\n",
              "    60% {\n",
              "      border-color: transparent;\n",
              "      border-right-color: var(--fill-color);\n",
              "    }\n",
              "    80% {\n",
              "      border-color: transparent;\n",
              "      border-right-color: var(--fill-color);\n",
              "      border-bottom-color: var(--fill-color);\n",
              "    }\n",
              "    90% {\n",
              "      border-color: transparent;\n",
              "      border-bottom-color: var(--fill-color);\n",
              "    }\n",
              "  }\n",
              "</style>\n",
              "\n",
              "      <script>\n",
              "        async function quickchart(key) {\n",
              "          const quickchartButtonEl =\n",
              "            document.querySelector('#' + key + ' button');\n",
              "          quickchartButtonEl.disabled = true;  // To prevent multiple clicks.\n",
              "          quickchartButtonEl.classList.add('colab-df-spinner');\n",
              "          try {\n",
              "            const charts = await google.colab.kernel.invokeFunction(\n",
              "                'suggestCharts', [key], {});\n",
              "          } catch (error) {\n",
              "            console.error('Error during call to suggestCharts:', error);\n",
              "          }\n",
              "          quickchartButtonEl.classList.remove('colab-df-spinner');\n",
              "          quickchartButtonEl.classList.add('colab-df-quickchart-complete');\n",
              "        }\n",
              "        (() => {\n",
              "          let quickchartButtonEl =\n",
              "            document.querySelector('#df-fc923eb7-6ddc-44e5-b4dd-265992399baf button');\n",
              "          quickchartButtonEl.style.display =\n",
              "            google.colab.kernel.accessAllowed ? 'block' : 'none';\n",
              "        })();\n",
              "      </script>\n",
              "    </div>\n",
              "\n",
              "    </div>\n",
              "  </div>\n"
            ],
            "application/vnd.google.colaboratory.intrinsic+json": {
              "type": "dataframe",
              "variable_name": "frutas",
              "summary": "{\n  \"name\": \"frutas\",\n  \"rows\": 59,\n  \"fields\": [\n    {\n      \"column\": \"fruit_label\",\n      \"properties\": {\n        \"dtype\": \"number\",\n        \"std\": 1,\n        \"min\": 1,\n        \"max\": 4,\n        \"num_unique_values\": 4,\n        \"samples\": [\n          2,\n          4,\n          1\n        ],\n        \"semantic_type\": \"\",\n        \"description\": \"\"\n      }\n    },\n    {\n      \"column\": \"fruit_name\",\n      \"properties\": {\n        \"dtype\": \"category\",\n        \"num_unique_values\": 4,\n        \"samples\": [\n          \"mandarin\",\n          \"lemon\",\n          \"apple\"\n        ],\n        \"semantic_type\": \"\",\n        \"description\": \"\"\n      }\n    },\n    {\n      \"column\": \"fruit_subtype\",\n      \"properties\": {\n        \"dtype\": \"category\",\n        \"num_unique_values\": 10,\n        \"samples\": [\n          \"spanish_belsan\",\n          \"mandarin\",\n          \"spanish_jumbo\"\n        ],\n        \"semantic_type\": \"\",\n        \"description\": \"\"\n      }\n    },\n    {\n      \"column\": \"mass\",\n      \"properties\": {\n        \"dtype\": \"number\",\n        \"std\": 55,\n        \"min\": 76,\n        \"max\": 362,\n        \"num_unique_values\": 40,\n        \"samples\": [\n          342,\n          160,\n          162\n        ],\n        \"semantic_type\": \"\",\n        \"description\": \"\"\n      }\n    },\n    {\n      \"column\": \"width\",\n      \"properties\": {\n        \"dtype\": \"number\",\n        \"std\": 0.8169378756639522,\n        \"min\": 5.8,\n        \"max\": 9.6,\n        \"num_unique_values\": 24,\n        \"samples\": [\n          6.9,\n          9.6,\n          8.4\n        ],\n        \"semantic_type\": \"\",\n        \"description\": \"\"\n      }\n    },\n    {\n      \"column\": \"height\",\n      \"properties\": {\n        \"dtype\": \"number\",\n        \"std\": 1.361016912760665,\n        \"min\": 4.0,\n        \"max\": 10.5,\n        \"num_unique_values\": 28,\n        \"samples\": [\n          7.6,\n          8.7,\n          7.0\n        ],\n        \"semantic_type\": \"\",\n        \"description\": \"\"\n      }\n    },\n    {\n      \"column\": \"color_score\",\n      \"properties\": {\n        \"dtype\": \"number\",\n        \"std\": 0.07685747776101508,\n        \"min\": 0.55,\n        \"max\": 0.93,\n        \"num_unique_values\": 27,\n        \"samples\": [\n          0.89,\n          0.67,\n          0.93\n        ],\n        \"semantic_type\": \"\",\n        \"description\": \"\"\n      }\n    }\n  ]\n}"
            }
          },
          "metadata": {},
          "execution_count": 3
        }
      ],
      "source": [
        "frutas = pd.read_csv(\"frutas.csv\")\n",
        "frutas.head()"
      ]
    },
    {
      "cell_type": "markdown",
      "id": "c37ab51f-8886-4310-b3e5-4c6b0f275184",
      "metadata": {
        "id": "c37ab51f-8886-4310-b3e5-4c6b0f275184"
      },
      "source": [
        "## **Modelo de clasificación usando parametro k = 1, es decir, 1 vecino**\n"
      ]
    },
    {
      "cell_type": "markdown",
      "source": [
        "### **Selección de variables predictoras (x) y variable a predecir (y)**"
      ],
      "metadata": {
        "id": "mm0MimEhDy0d"
      },
      "id": "mm0MimEhDy0d"
    },
    {
      "cell_type": "code",
      "execution_count": 4,
      "id": "98c85faa",
      "metadata": {
        "id": "98c85faa"
      },
      "outputs": [],
      "source": [
        "# Seleccion de caracteristicas o variables predictoras o variables independientes\n",
        "X = frutas[[\"height\", \"width\", \"mass\", \"color_score\"]]\n",
        "\n",
        "# Variable objetivo o variable a predecir\n",
        "y = frutas[\"fruit_name\"]"
      ]
    },
    {
      "cell_type": "markdown",
      "id": "06e341cf-7e5b-4fbe-9448-40f3f0160861",
      "metadata": {
        "id": "06e341cf-7e5b-4fbe-9448-40f3f0160861"
      },
      "source": [
        "### **Dividir dataset en conjunto de entrenamiento y prueba**"
      ]
    },
    {
      "cell_type": "code",
      "execution_count": 5,
      "id": "832f87a9",
      "metadata": {
        "id": "832f87a9"
      },
      "outputs": [],
      "source": [
        "X_train, X_test, y_train, y_test = train_test_split(X, y, random_state=42)"
      ]
    },
    {
      "cell_type": "markdown",
      "id": "1bef43d6-6caa-42ba-8771-b86782eb33b5",
      "metadata": {
        "id": "1bef43d6-6caa-42ba-8771-b86782eb33b5"
      },
      "source": [
        "### **Entrenamiento del modelo**\n",
        "\n",
        "- Entrenar un modelo se refiere al proceso de ajustar un modelo a los datos, de modo que el modelo pueda aprender a hacer predicciones basadas en los datos.\n",
        "- En el aprendizaje automático, esto normalmente se hace optimizando los parámetros del modelo para minimizar el error entre las predicciones del modelo y los valores reales."
      ]
    },
    {
      "cell_type": "code",
      "execution_count": 6,
      "id": "b26afa80",
      "metadata": {
        "id": "b26afa80",
        "outputId": "00f0b1bc-f563-4d7a-da8a-b60945d68e59",
        "colab": {
          "base_uri": "https://localhost:8080/"
        }
      },
      "outputs": [
        {
          "output_type": "stream",
          "name": "stdout",
          "text": [
            "Precision del clasificador en fase de entrenamiento 1.0\n"
          ]
        }
      ],
      "source": [
        "#Definimos el clasificador KNN , definimos 1 vecinos\n",
        "clasificador_KNN = KNeighborsClassifier(n_neighbors= 1)\n",
        "\n",
        "# realizar el entrenamiento con las variables definidas\n",
        "clasificador_KNN.fit(X_train, y_train)\n",
        "print(\"Precision del clasificador en fase de entrenamiento\",\n",
        "      clasificador_KNN.score(X_train, y_train) )"
      ]
    },
    {
      "cell_type": "markdown",
      "id": "ec0a830a-9fc8-4a21-afd6-5bc60c06e164",
      "metadata": {
        "id": "ec0a830a-9fc8-4a21-afd6-5bc60c06e164"
      },
      "source": [
        "### **Prueba del Modelo**\n",
        "- La prueba del modelo implica **evaluar su desempeño en un conjunto de datos no visto previamente (el conjunto de prueba)** para medir qué tan bien generaliza al trabajar con datos nuevos.\n",
        "- Este proceso es fundamental para verificar la utilidad práctica del modelo y prevenir problemas como el sobreajuste o subajuste.  \n",
        "\n",
        "### **Generalización**\n",
        "- La capacidad del modelo para generalizar es su habilidad para hacer predicciones precisas en datos nuevos. Un modelo bien probado debe demostrar que no solo memoriza los datos de entrenamiento, sino que entiende los patrones subyacentes.\n",
        "- **Sobreajuste (Overfitting)**: El modelo aprende demasiado bien los detalles y ruido de los datos de entrenamiento, lo que lleva a un mal desempeño en el conjunto de prueba.\n",
        "- **Subajuste (Underfitting)**: El modelo no captura suficientemente la relación entre los datos, llevando a un bajo desempeño en ambos conjuntos."
      ]
    },
    {
      "cell_type": "code",
      "execution_count": 7,
      "id": "202c5ee2-44d7-445a-8264-a0ae0d71b228",
      "metadata": {
        "id": "202c5ee2-44d7-445a-8264-a0ae0d71b228",
        "outputId": "b78f1fe0-75a7-49a0-bba3-fe8b1452cf6f",
        "colab": {
          "base_uri": "https://localhost:8080/"
        }
      },
      "outputs": [
        {
          "output_type": "stream",
          "name": "stdout",
          "text": [
            "Reporte de métricas del clasificador: \n",
            "               precision    recall  f1-score   support\n",
            "\n",
            "       apple       0.00      0.00      0.00         4\n",
            "       lemon       1.00      0.60      0.75         5\n",
            "    mandarin       1.00      1.00      1.00         2\n",
            "      orange       0.38      0.75      0.50         4\n",
            "\n",
            "    accuracy                           0.53        15\n",
            "   macro avg       0.59      0.59      0.56        15\n",
            "weighted avg       0.57      0.53      0.52        15\n",
            "\n",
            "Precisión: 0.5333333333333333\n"
          ]
        }
      ],
      "source": [
        "# Realizar una prediccion con los datos de prueba\n",
        "y_pred = clasificador_KNN.predict(X_test)\n",
        "\n",
        "# Crear un informe de texto que muestre las principales métricas de clasificación.\n",
        "print(\"Reporte de métricas del clasificador: \\n\", classification_report(y_test, y_pred))\n",
        "\n",
        "# Coeficiente de determinación\n",
        "print( \"Precisión:\", clasificador_KNN.score(X_test, y_test) )"
      ]
    },
    {
      "cell_type": "markdown",
      "id": "bff5ccce-cd25-4644-8bd8-c1fcf8dd94c7",
      "metadata": {
        "id": "bff5ccce-cd25-4644-8bd8-c1fcf8dd94c7"
      },
      "source": [
        "### **Reporte de los resultados**\n",
        "\n",
        "Qué significa cada métrica:\n",
        "* **Precision (precisión)**: De todas las veces que el modelo predijo una fruta, ¿cuántas veces acertó?  \n",
        "* **Recall (sensibilidad)**: De todas las frutas reales de una clase, ¿cuántas fueron correctamente detectadas?  \n",
        "* **F1-score**: Media armónica entre precisión y recall → equilibrio entre ambos.  \n",
        "* **Support**: Número de ejemplos de cada clase en el conjunto de prueba.\n",
        "\n",
        "**Accuracy = 0.5333** → de 15 ejemplos de prueba, el modelo acertó 8 (0.5333 × 15 ≈ 8).\n",
        "\n",
        "#### **apple**\n",
        "- **Precision = 0.0:** El 0% de las predicciones como \"apple\" fueron correctas. Es decir, el modelo confundió otras clases como \"apple\" en el 100% de los casos.\n",
        "- **Recall = 0.0**: El modelo identificó correctamente el 0% de las \"apple\" reales en los datos.\n",
        "- **F1-score = 0.0**: Equilibrio entre precisión y recall. Esto indica que el modelo tiene un desempeño nulo en esta clase.\n",
        "- **Support** = 4: Había 4 ejemplos de \"apple\" reales en los dato\n",
        "\n",
        "#### **lemon**\n",
        "- **Precision = 1.00**: Todas las frutas predichas como \"lemon\" eran realmente \"lemon\". El modelo no generó falsos positivos para esta clase.\n",
        "- **Recall = 0.60**: El modelo identificó solo el 60% de los \"lemon\" reales. (falsos negativos).\n",
        "- **F1-score = 0.75**: Un equilibrio aceptable entre precisión (muy alta) y recall (moderado), pero limitado por el bajo recall.\n",
        "- **Support = 5**: Había 5 ejemplos de \"lemon\" reales.\n",
        "\n",
        "#### **mandarin**\n",
        "- **Precision = 1.00**: Todas las frutas predichas como \"mandarina\" eran efectivamente \"mandarina\".\n",
        "- **Recall = 1.00**: El modelo identificó todas las \"mandarinas\" reales.\n",
        "- **F1-score = 1.00**: Desempeño perfecto en esta clase.\n",
        "- **Support = 2**: Había solo 2 muestras de \"mandarinas\", lo cual facilita obtener métricas perfectas (aunque no garantiza que el modelo sea robusto para esta clase).\n",
        "\n",
        "#### **orange**\n",
        "- **Precision = 0.38**: El 38% de las predicciones como \"orange\" eran correctas. Hubo un 60% de falsos positivos.\n",
        "- **Recall = 0.75**: El modelo identificó el 75% de las \"orange\" reales, pero omitió el 25% (falsos negativos).\n",
        "- **F1-score = 0.50**: Desempeño bajo\n",
        "- **Support = 4**: Había 4 ejemplos de \"orange\" reales.\n",
        "\n",
        "### **Desempeño General**\n",
        "- **Accuracy = 0.53 (53%)**: El modelo predijo correctamente el 53% de todas las frutas en el conjunto de prueba.\n",
        "- **Macro Average (Promedio Macro)**: Calcula el promedio de precisión, recall y F1-score dando el mismo peso a cada clase, sin importar su tamaño.\n",
        "- **Weighted Average (Promedio Ponderado)**: Calcuula el Promedio ponderado por el tamaño de cada clase\n",
        "\n",
        "### **Concluciones**\n",
        "* El modelo no acierta ninguna manzana (apple TP = 0).\n",
        "* Algunas clases (lemon y mandarin) están muy bien identificadas;\n",
        "* apple y orange se confunden entre sí (o con otras clases).\n",
        "\n",
        "### **Consideraciones**\n",
        "- Un buen modelo busca alta precisión y recall en ambas clases, especialmente si las clases son igualmente importantes.\n",
        "- Si hay un desbalance entre las clases (por ejemplo, muchas más naranjas que manzanas), las métricas como el F1-score son más representativas que solo la precisión."
      ]
    },
    {
      "cell_type": "markdown",
      "source": [
        "### **Matriz de confusión**\n",
        "\n",
        "La matriz de confusión muestra cómo el modelo clasificó las instancias reales en diferentes clases. Las filas representan las clases reales y las columnas las predicciones:\n",
        "\n",
        "- Diagonal principal: Son las predicciones correctas (True Positives, TP).\n",
        "- Fuera de la diagonal: Son las predicciones incorrectas:\n",
        "     - Falsos positivos (FP): Instancias incorrectamente asignadas a una clase.\n",
        "     - Falsos negativos (FN): Instancias de una clase que no fueron identificadas correctamente."
      ],
      "metadata": {
        "id": "XhdV3qjp8GWm"
      },
      "id": "XhdV3qjp8GWm"
    },
    {
      "cell_type": "code",
      "execution_count": 8,
      "id": "42997e79-df8a-42ed-8cf6-0ee41faaf8dd",
      "metadata": {
        "id": "42997e79-df8a-42ed-8cf6-0ee41faaf8dd",
        "outputId": "c1109d28-fe59-4529-8051-538b3ebdc943",
        "colab": {
          "base_uri": "https://localhost:8080/"
        }
      },
      "outputs": [
        {
          "output_type": "stream",
          "name": "stdout",
          "text": [
            "Matriz de confusión:\n",
            " [[0 0 0 4]\n",
            " [1 3 0 1]\n",
            " [0 0 2 0]\n",
            " [1 0 0 3]] \n",
            "\n"
          ]
        }
      ],
      "source": [
        "# Resumen de las predicciones realizadas por el clasificador\n",
        "print (\"Matriz de confusión:\\n\", confusion_matrix(y_test, y_pred), \"\\n\")"
      ]
    },
    {
      "cell_type": "markdown",
      "id": "f49fa4fb-12e6-4be5-a064-b7d255d3ce5c",
      "metadata": {
        "id": "f49fa4fb-12e6-4be5-a064-b7d255d3ce5c"
      },
      "source": [
        "### **Interpretación**\n",
        "\n",
        "| Fruta real               | Predicciones correctas | Predicciones incorrectas                      | Observaciones                                                                                                                                        |\n",
        "| ------------------------ | ---------------------- | --------------------------------------------- | ---------------------------------------------------------------------------------------------------------------------------------------------------- |\n",
        "| **apple** (manzana)      | 0/4 correctas        | Todas fueron clasificadas como **orange (4)** | El modelo no logra distinguir manzanas, probablemente se parecen mucho en características físicas (masa, altura, ancho, color_score) a las naranjas. |\n",
        "| **lemon** (limón)        | 3/5 correctas        | 1 como **apple**, 1 como **orange**           | Lo hace bien, pero hay algo de confusión con frutas de color similar.                                                                                |\n",
        "| **mandarin** (mandarina) | 2/2 correctas         | Ningún error                                  | Muy buen desempeño, los datos de esta clase están bien separados.                                                                                    |\n",
        "| **orange** (naranja)     | 3/4 correctas        | 1 mal clasificada como **apple**              | El modelo confunde ocasionalmente naranjas con manzanas.                                                                                             |\n"
      ]
    },
    {
      "cell_type": "markdown",
      "source": [
        "### **Calcular la importancia de características (Permutation Importance)**\n",
        "\n",
        "* Este método evalúa cuánto empeora el rendimiento del modelo cuando se altera aleatoriamente una característica.\n",
        "* Mide cuánto baja la precisión del modelo si se altera una variable.\n",
        "Cuanto mayor sea esa caída, más importante es la variable."
      ],
      "metadata": {
        "id": "BrFD-nWWxUmG"
      },
      "id": "BrFD-nWWxUmG"
    },
    {
      "cell_type": "code",
      "source": [
        "from sklearn.inspection import permutation_importance\n",
        "\n",
        "result = permutation_importance(clasificador_KNN, X_test, y_test, n_repeats=30, random_state=42)\n",
        "\n",
        "importancia = pd.DataFrame({\n",
        "    \"Variable\": X.columns,\n",
        "    \"Importancia Media\": result.importances_mean,\n",
        "    \"Desviación\": result.importances_std\n",
        "}).sort_values(\"Importancia Media\", ascending=False)\n",
        "\n",
        "print(importancia)"
      ],
      "metadata": {
        "colab": {
          "base_uri": "https://localhost:8080/"
        },
        "id": "IY5pSbwOvcm2",
        "outputId": "7e1dd65b-e294-47aa-d8d4-324b2d4ecfbf"
      },
      "id": "IY5pSbwOvcm2",
      "execution_count": 9,
      "outputs": [
        {
          "output_type": "stream",
          "name": "stdout",
          "text": [
            "      Variable  Importancia Media  Desviación\n",
            "2         mass           0.266667    0.095839\n",
            "3  color_score          -0.004444    0.016630\n",
            "0       height          -0.028889    0.063674\n",
            "1        width          -0.062222    0.048483\n"
          ]
        }
      ]
    },
    {
      "cell_type": "code",
      "source": [
        "# Visualizar importancias con Plotly\n",
        "import plotly.express as px\n",
        "fig4 = px.bar(importancia, x=\"Variable\", y=\"Importancia Media\",\n",
        "              error_y=\"Desviación\", title=\"Importancia de características (KNN - Permutation Importance)\",\n",
        "              text_auto=\".3f\", color=\"Variable\")\n",
        "fig4.update_layout(width=600, height=400)\n",
        "fig4.show()"
      ],
      "metadata": {
        "colab": {
          "base_uri": "https://localhost:8080/",
          "height": 417
        },
        "id": "hu59YPhDvegQ",
        "outputId": "116e9a12-b825-4248-f4c3-e2f59065ce62"
      },
      "id": "hu59YPhDvegQ",
      "execution_count": 10,
      "outputs": [
        {
          "output_type": "display_data",
          "data": {
            "text/html": [
              "<html>\n",
              "<head><meta charset=\"utf-8\" /></head>\n",
              "<body>\n",
              "    <div>            <script src=\"https://cdnjs.cloudflare.com/ajax/libs/mathjax/2.7.5/MathJax.js?config=TeX-AMS-MML_SVG\"></script><script type=\"text/javascript\">if (window.MathJax && window.MathJax.Hub && window.MathJax.Hub.Config) {window.MathJax.Hub.Config({SVG: {font: \"STIX-Web\"}});}</script>                <script type=\"text/javascript\">window.PlotlyConfig = {MathJaxConfig: 'local'};</script>\n",
              "        <script charset=\"utf-8\" src=\"https://cdn.plot.ly/plotly-2.35.2.min.js\"></script>                <div id=\"c2b05579-925e-4f4d-ae00-0721bcffd777\" class=\"plotly-graph-div\" style=\"height:400px; width:600px;\"></div>            <script type=\"text/javascript\">                                    window.PLOTLYENV=window.PLOTLYENV || {};                                    if (document.getElementById(\"c2b05579-925e-4f4d-ae00-0721bcffd777\")) {                    Plotly.newPlot(                        \"c2b05579-925e-4f4d-ae00-0721bcffd777\",                        [{\"alignmentgroup\":\"True\",\"error_y\":{\"array\":[0.09583937179043478]},\"hovertemplate\":\"Variable=%{x}\\u003cbr\\u003eImportancia Media=%{y}\\u003cextra\\u003e\\u003c\\u002fextra\\u003e\",\"legendgroup\":\"mass\",\"marker\":{\"color\":\"#636efa\",\"pattern\":{\"shape\":\"\"}},\"name\":\"mass\",\"offsetgroup\":\"mass\",\"orientation\":\"v\",\"showlegend\":true,\"textposition\":\"auto\",\"texttemplate\":\"%{y:.3f}\",\"x\":[\"mass\"],\"xaxis\":\"x\",\"y\":[0.26666666666666666],\"yaxis\":\"y\",\"type\":\"bar\"},{\"alignmentgroup\":\"True\",\"error_y\":{\"array\":[0.016629588385661954]},\"hovertemplate\":\"Variable=%{x}\\u003cbr\\u003eImportancia Media=%{y}\\u003cextra\\u003e\\u003c\\u002fextra\\u003e\",\"legendgroup\":\"color_score\",\"marker\":{\"color\":\"#EF553B\",\"pattern\":{\"shape\":\"\"}},\"name\":\"color_score\",\"offsetgroup\":\"color_score\",\"orientation\":\"v\",\"showlegend\":true,\"textposition\":\"auto\",\"texttemplate\":\"%{y:.3f}\",\"x\":[\"color_score\"],\"xaxis\":\"x\",\"y\":[-0.004444444444444444],\"yaxis\":\"y\",\"type\":\"bar\"},{\"alignmentgroup\":\"True\",\"error_y\":{\"array\":[0.06367355014175288]},\"hovertemplate\":\"Variable=%{x}\\u003cbr\\u003eImportancia Media=%{y}\\u003cextra\\u003e\\u003c\\u002fextra\\u003e\",\"legendgroup\":\"height\",\"marker\":{\"color\":\"#00cc96\",\"pattern\":{\"shape\":\"\"}},\"name\":\"height\",\"offsetgroup\":\"height\",\"orientation\":\"v\",\"showlegend\":true,\"textposition\":\"auto\",\"texttemplate\":\"%{y:.3f}\",\"x\":[\"height\"],\"xaxis\":\"x\",\"y\":[-0.028888888888888884],\"yaxis\":\"y\",\"type\":\"bar\"},{\"alignmentgroup\":\"True\",\"error_y\":{\"array\":[0.04848316495393651]},\"hovertemplate\":\"Variable=%{x}\\u003cbr\\u003eImportancia Media=%{y}\\u003cextra\\u003e\\u003c\\u002fextra\\u003e\",\"legendgroup\":\"width\",\"marker\":{\"color\":\"#ab63fa\",\"pattern\":{\"shape\":\"\"}},\"name\":\"width\",\"offsetgroup\":\"width\",\"orientation\":\"v\",\"showlegend\":true,\"textposition\":\"auto\",\"texttemplate\":\"%{y:.3f}\",\"x\":[\"width\"],\"xaxis\":\"x\",\"y\":[-0.06222222222222221],\"yaxis\":\"y\",\"type\":\"bar\"}],                        {\"template\":{\"data\":{\"histogram2dcontour\":[{\"type\":\"histogram2dcontour\",\"colorbar\":{\"outlinewidth\":0,\"ticks\":\"\"},\"colorscale\":[[0.0,\"#0d0887\"],[0.1111111111111111,\"#46039f\"],[0.2222222222222222,\"#7201a8\"],[0.3333333333333333,\"#9c179e\"],[0.4444444444444444,\"#bd3786\"],[0.5555555555555556,\"#d8576b\"],[0.6666666666666666,\"#ed7953\"],[0.7777777777777778,\"#fb9f3a\"],[0.8888888888888888,\"#fdca26\"],[1.0,\"#f0f921\"]]}],\"choropleth\":[{\"type\":\"choropleth\",\"colorbar\":{\"outlinewidth\":0,\"ticks\":\"\"}}],\"histogram2d\":[{\"type\":\"histogram2d\",\"colorbar\":{\"outlinewidth\":0,\"ticks\":\"\"},\"colorscale\":[[0.0,\"#0d0887\"],[0.1111111111111111,\"#46039f\"],[0.2222222222222222,\"#7201a8\"],[0.3333333333333333,\"#9c179e\"],[0.4444444444444444,\"#bd3786\"],[0.5555555555555556,\"#d8576b\"],[0.6666666666666666,\"#ed7953\"],[0.7777777777777778,\"#fb9f3a\"],[0.8888888888888888,\"#fdca26\"],[1.0,\"#f0f921\"]]}],\"heatmap\":[{\"type\":\"heatmap\",\"colorbar\":{\"outlinewidth\":0,\"ticks\":\"\"},\"colorscale\":[[0.0,\"#0d0887\"],[0.1111111111111111,\"#46039f\"],[0.2222222222222222,\"#7201a8\"],[0.3333333333333333,\"#9c179e\"],[0.4444444444444444,\"#bd3786\"],[0.5555555555555556,\"#d8576b\"],[0.6666666666666666,\"#ed7953\"],[0.7777777777777778,\"#fb9f3a\"],[0.8888888888888888,\"#fdca26\"],[1.0,\"#f0f921\"]]}],\"heatmapgl\":[{\"type\":\"heatmapgl\",\"colorbar\":{\"outlinewidth\":0,\"ticks\":\"\"},\"colorscale\":[[0.0,\"#0d0887\"],[0.1111111111111111,\"#46039f\"],[0.2222222222222222,\"#7201a8\"],[0.3333333333333333,\"#9c179e\"],[0.4444444444444444,\"#bd3786\"],[0.5555555555555556,\"#d8576b\"],[0.6666666666666666,\"#ed7953\"],[0.7777777777777778,\"#fb9f3a\"],[0.8888888888888888,\"#fdca26\"],[1.0,\"#f0f921\"]]}],\"contourcarpet\":[{\"type\":\"contourcarpet\",\"colorbar\":{\"outlinewidth\":0,\"ticks\":\"\"}}],\"contour\":[{\"type\":\"contour\",\"colorbar\":{\"outlinewidth\":0,\"ticks\":\"\"},\"colorscale\":[[0.0,\"#0d0887\"],[0.1111111111111111,\"#46039f\"],[0.2222222222222222,\"#7201a8\"],[0.3333333333333333,\"#9c179e\"],[0.4444444444444444,\"#bd3786\"],[0.5555555555555556,\"#d8576b\"],[0.6666666666666666,\"#ed7953\"],[0.7777777777777778,\"#fb9f3a\"],[0.8888888888888888,\"#fdca26\"],[1.0,\"#f0f921\"]]}],\"surface\":[{\"type\":\"surface\",\"colorbar\":{\"outlinewidth\":0,\"ticks\":\"\"},\"colorscale\":[[0.0,\"#0d0887\"],[0.1111111111111111,\"#46039f\"],[0.2222222222222222,\"#7201a8\"],[0.3333333333333333,\"#9c179e\"],[0.4444444444444444,\"#bd3786\"],[0.5555555555555556,\"#d8576b\"],[0.6666666666666666,\"#ed7953\"],[0.7777777777777778,\"#fb9f3a\"],[0.8888888888888888,\"#fdca26\"],[1.0,\"#f0f921\"]]}],\"mesh3d\":[{\"type\":\"mesh3d\",\"colorbar\":{\"outlinewidth\":0,\"ticks\":\"\"}}],\"scatter\":[{\"fillpattern\":{\"fillmode\":\"overlay\",\"size\":10,\"solidity\":0.2},\"type\":\"scatter\"}],\"parcoords\":[{\"type\":\"parcoords\",\"line\":{\"colorbar\":{\"outlinewidth\":0,\"ticks\":\"\"}}}],\"scatterpolargl\":[{\"type\":\"scatterpolargl\",\"marker\":{\"colorbar\":{\"outlinewidth\":0,\"ticks\":\"\"}}}],\"bar\":[{\"error_x\":{\"color\":\"#2a3f5f\"},\"error_y\":{\"color\":\"#2a3f5f\"},\"marker\":{\"line\":{\"color\":\"#E5ECF6\",\"width\":0.5},\"pattern\":{\"fillmode\":\"overlay\",\"size\":10,\"solidity\":0.2}},\"type\":\"bar\"}],\"scattergeo\":[{\"type\":\"scattergeo\",\"marker\":{\"colorbar\":{\"outlinewidth\":0,\"ticks\":\"\"}}}],\"scatterpolar\":[{\"type\":\"scatterpolar\",\"marker\":{\"colorbar\":{\"outlinewidth\":0,\"ticks\":\"\"}}}],\"histogram\":[{\"marker\":{\"pattern\":{\"fillmode\":\"overlay\",\"size\":10,\"solidity\":0.2}},\"type\":\"histogram\"}],\"scattergl\":[{\"type\":\"scattergl\",\"marker\":{\"colorbar\":{\"outlinewidth\":0,\"ticks\":\"\"}}}],\"scatter3d\":[{\"type\":\"scatter3d\",\"line\":{\"colorbar\":{\"outlinewidth\":0,\"ticks\":\"\"}},\"marker\":{\"colorbar\":{\"outlinewidth\":0,\"ticks\":\"\"}}}],\"scattermapbox\":[{\"type\":\"scattermapbox\",\"marker\":{\"colorbar\":{\"outlinewidth\":0,\"ticks\":\"\"}}}],\"scatterternary\":[{\"type\":\"scatterternary\",\"marker\":{\"colorbar\":{\"outlinewidth\":0,\"ticks\":\"\"}}}],\"scattercarpet\":[{\"type\":\"scattercarpet\",\"marker\":{\"colorbar\":{\"outlinewidth\":0,\"ticks\":\"\"}}}],\"carpet\":[{\"aaxis\":{\"endlinecolor\":\"#2a3f5f\",\"gridcolor\":\"white\",\"linecolor\":\"white\",\"minorgridcolor\":\"white\",\"startlinecolor\":\"#2a3f5f\"},\"baxis\":{\"endlinecolor\":\"#2a3f5f\",\"gridcolor\":\"white\",\"linecolor\":\"white\",\"minorgridcolor\":\"white\",\"startlinecolor\":\"#2a3f5f\"},\"type\":\"carpet\"}],\"table\":[{\"cells\":{\"fill\":{\"color\":\"#EBF0F8\"},\"line\":{\"color\":\"white\"}},\"header\":{\"fill\":{\"color\":\"#C8D4E3\"},\"line\":{\"color\":\"white\"}},\"type\":\"table\"}],\"barpolar\":[{\"marker\":{\"line\":{\"color\":\"#E5ECF6\",\"width\":0.5},\"pattern\":{\"fillmode\":\"overlay\",\"size\":10,\"solidity\":0.2}},\"type\":\"barpolar\"}],\"pie\":[{\"automargin\":true,\"type\":\"pie\"}]},\"layout\":{\"autotypenumbers\":\"strict\",\"colorway\":[\"#636efa\",\"#EF553B\",\"#00cc96\",\"#ab63fa\",\"#FFA15A\",\"#19d3f3\",\"#FF6692\",\"#B6E880\",\"#FF97FF\",\"#FECB52\"],\"font\":{\"color\":\"#2a3f5f\"},\"hovermode\":\"closest\",\"hoverlabel\":{\"align\":\"left\"},\"paper_bgcolor\":\"white\",\"plot_bgcolor\":\"#E5ECF6\",\"polar\":{\"bgcolor\":\"#E5ECF6\",\"angularaxis\":{\"gridcolor\":\"white\",\"linecolor\":\"white\",\"ticks\":\"\"},\"radialaxis\":{\"gridcolor\":\"white\",\"linecolor\":\"white\",\"ticks\":\"\"}},\"ternary\":{\"bgcolor\":\"#E5ECF6\",\"aaxis\":{\"gridcolor\":\"white\",\"linecolor\":\"white\",\"ticks\":\"\"},\"baxis\":{\"gridcolor\":\"white\",\"linecolor\":\"white\",\"ticks\":\"\"},\"caxis\":{\"gridcolor\":\"white\",\"linecolor\":\"white\",\"ticks\":\"\"}},\"coloraxis\":{\"colorbar\":{\"outlinewidth\":0,\"ticks\":\"\"}},\"colorscale\":{\"sequential\":[[0.0,\"#0d0887\"],[0.1111111111111111,\"#46039f\"],[0.2222222222222222,\"#7201a8\"],[0.3333333333333333,\"#9c179e\"],[0.4444444444444444,\"#bd3786\"],[0.5555555555555556,\"#d8576b\"],[0.6666666666666666,\"#ed7953\"],[0.7777777777777778,\"#fb9f3a\"],[0.8888888888888888,\"#fdca26\"],[1.0,\"#f0f921\"]],\"sequentialminus\":[[0.0,\"#0d0887\"],[0.1111111111111111,\"#46039f\"],[0.2222222222222222,\"#7201a8\"],[0.3333333333333333,\"#9c179e\"],[0.4444444444444444,\"#bd3786\"],[0.5555555555555556,\"#d8576b\"],[0.6666666666666666,\"#ed7953\"],[0.7777777777777778,\"#fb9f3a\"],[0.8888888888888888,\"#fdca26\"],[1.0,\"#f0f921\"]],\"diverging\":[[0,\"#8e0152\"],[0.1,\"#c51b7d\"],[0.2,\"#de77ae\"],[0.3,\"#f1b6da\"],[0.4,\"#fde0ef\"],[0.5,\"#f7f7f7\"],[0.6,\"#e6f5d0\"],[0.7,\"#b8e186\"],[0.8,\"#7fbc41\"],[0.9,\"#4d9221\"],[1,\"#276419\"]]},\"xaxis\":{\"gridcolor\":\"white\",\"linecolor\":\"white\",\"ticks\":\"\",\"title\":{\"standoff\":15},\"zerolinecolor\":\"white\",\"automargin\":true,\"zerolinewidth\":2},\"yaxis\":{\"gridcolor\":\"white\",\"linecolor\":\"white\",\"ticks\":\"\",\"title\":{\"standoff\":15},\"zerolinecolor\":\"white\",\"automargin\":true,\"zerolinewidth\":2},\"scene\":{\"xaxis\":{\"backgroundcolor\":\"#E5ECF6\",\"gridcolor\":\"white\",\"linecolor\":\"white\",\"showbackground\":true,\"ticks\":\"\",\"zerolinecolor\":\"white\",\"gridwidth\":2},\"yaxis\":{\"backgroundcolor\":\"#E5ECF6\",\"gridcolor\":\"white\",\"linecolor\":\"white\",\"showbackground\":true,\"ticks\":\"\",\"zerolinecolor\":\"white\",\"gridwidth\":2},\"zaxis\":{\"backgroundcolor\":\"#E5ECF6\",\"gridcolor\":\"white\",\"linecolor\":\"white\",\"showbackground\":true,\"ticks\":\"\",\"zerolinecolor\":\"white\",\"gridwidth\":2}},\"shapedefaults\":{\"line\":{\"color\":\"#2a3f5f\"}},\"annotationdefaults\":{\"arrowcolor\":\"#2a3f5f\",\"arrowhead\":0,\"arrowwidth\":1},\"geo\":{\"bgcolor\":\"white\",\"landcolor\":\"#E5ECF6\",\"subunitcolor\":\"white\",\"showland\":true,\"showlakes\":true,\"lakecolor\":\"white\"},\"title\":{\"x\":0.05},\"mapbox\":{\"style\":\"light\"}}},\"xaxis\":{\"anchor\":\"y\",\"domain\":[0.0,1.0],\"title\":{\"text\":\"Variable\"},\"categoryorder\":\"array\",\"categoryarray\":[\"mass\",\"color_score\",\"height\",\"width\"]},\"yaxis\":{\"anchor\":\"x\",\"domain\":[0.0,1.0],\"title\":{\"text\":\"Importancia Media\"}},\"legend\":{\"title\":{\"text\":\"Variable\"},\"tracegroupgap\":0},\"title\":{\"text\":\"Importancia de características (KNN - Permutation Importance)\"},\"barmode\":\"relative\",\"width\":600,\"height\":400},                        {\"responsive\": true}                    ).then(function(){\n",
              "                            \n",
              "var gd = document.getElementById('c2b05579-925e-4f4d-ae00-0721bcffd777');\n",
              "var x = new MutationObserver(function (mutations, observer) {{\n",
              "        var display = window.getComputedStyle(gd).display;\n",
              "        if (!display || display === 'none') {{\n",
              "            console.log([gd, 'removed!']);\n",
              "            Plotly.purge(gd);\n",
              "            observer.disconnect();\n",
              "        }}\n",
              "}});\n",
              "\n",
              "// Listen for the removal of the full notebook cells\n",
              "var notebookContainer = gd.closest('#notebook-container');\n",
              "if (notebookContainer) {{\n",
              "    x.observe(notebookContainer, {childList: true});\n",
              "}}\n",
              "\n",
              "// Listen for the clearing of the current output cell\n",
              "var outputEl = gd.closest('.output');\n",
              "if (outputEl) {{\n",
              "    x.observe(outputEl, {childList: true});\n",
              "}}\n",
              "\n",
              "                        })                };                            </script>        </div>\n",
              "</body>\n",
              "</html>"
            ]
          },
          "metadata": {}
        }
      ]
    },
    {
      "cell_type": "markdown",
      "id": "bc6a3373-f33a-4bd1-ad8d-3b40272f81a4",
      "metadata": {
        "id": "bc6a3373-f33a-4bd1-ad8d-3b40272f81a4"
      },
      "source": [
        "## **Modelo de clasificación usando parametro k = 3, es decir, 3 vecinos**"
      ]
    },
    {
      "cell_type": "code",
      "execution_count": 11,
      "id": "c48868b9-8d46-456d-8915-702fc2dd99e9",
      "metadata": {
        "id": "c48868b9-8d46-456d-8915-702fc2dd99e9",
        "outputId": "14102416-5614-4833-e6c3-e3e94204ae64",
        "colab": {
          "base_uri": "https://localhost:8080/"
        }
      },
      "outputs": [
        {
          "output_type": "stream",
          "name": "stdout",
          "text": [
            "Precision del clasificador en fase de entrenamiento 0.8409090909090909\n"
          ]
        }
      ],
      "source": [
        "#Definimos el clasificador KNN , definimos 3 vecinos\n",
        "clasificador_KNN3 = KNeighborsClassifier(n_neighbors= 3 )\n",
        "\n",
        "# realizar el entrenamiento con las variables definidas\n",
        "clasificador_KNN3.fit(X_train, y_train)\n",
        "print(\"Precision del clasificador en fase de entrenamiento\",\n",
        "      clasificador_KNN3.score(X_train, y_train) )"
      ]
    },
    {
      "cell_type": "code",
      "execution_count": 12,
      "id": "2d06bee7-f584-4d39-a8dd-ca8f2a123934",
      "metadata": {
        "id": "2d06bee7-f584-4d39-a8dd-ca8f2a123934",
        "outputId": "9bbaec4b-b338-4f18-af76-98f5b7691646",
        "colab": {
          "base_uri": "https://localhost:8080/"
        }
      },
      "outputs": [
        {
          "output_type": "stream",
          "name": "stdout",
          "text": [
            "Reporte de métricas del clasificador: \n",
            "               precision    recall  f1-score   support\n",
            "\n",
            "       apple       0.67      0.50      0.57         4\n",
            "       lemon       0.50      0.40      0.44         5\n",
            "    mandarin       1.00      1.00      1.00         2\n",
            "      orange       0.50      0.75      0.60         4\n",
            "\n",
            "    accuracy                           0.60        15\n",
            "   macro avg       0.67      0.66      0.65        15\n",
            "weighted avg       0.61      0.60      0.59        15\n",
            "\n",
            "Precisión: 0.6\n"
          ]
        }
      ],
      "source": [
        "# Realizar una prediccion con los datos de prueba\n",
        "y_pred = clasificador_KNN3.predict(X_test)\n",
        "\n",
        "# Crear un informe de texto que muestre las principales métricas de clasificación.\n",
        "print(\"Reporte de métricas del clasificador: \\n\", classification_report(y_test, y_pred))\n",
        "\n",
        "# Coeficiente de determinación\n",
        "print( \"Precisión:\", clasificador_KNN3.score(X_test, y_test) )"
      ]
    },
    {
      "cell_type": "code",
      "execution_count": 13,
      "id": "e95ff582-f9e3-4f47-b0ad-4ff46e855e6c",
      "metadata": {
        "id": "e95ff582-f9e3-4f47-b0ad-4ff46e855e6c",
        "colab": {
          "base_uri": "https://localhost:8080/"
        },
        "outputId": "d99824fd-1338-4765-988b-8df9c7eda598"
      },
      "outputs": [
        {
          "output_type": "stream",
          "name": "stdout",
          "text": [
            "Matriz de confusión:\n",
            " [[2 1 0 1]\n",
            " [1 2 0 2]\n",
            " [0 0 2 0]\n",
            " [0 1 0 3]] \n",
            "\n"
          ]
        }
      ],
      "source": [
        "# Resumen de las predicciones realizadas por el clasificador\n",
        "print (\"Matriz de confusión:\\n\", confusion_matrix(y_test, y_pred), \"\\n\")"
      ]
    },
    {
      "cell_type": "markdown",
      "source": [
        "### **Interpretación de resultados**  \n",
        "\n",
        "**Matriz de confusión**  \n",
        "| Fruta real                  | Predicciones correctas | Errores                         | Observación                                                                         |\n",
        "| --------------------------- | ---------------------- | ------------------------------- | ----------------------------------------------------------------------------------- |\n",
        "| **Apple (manzana)**      | 2 de 4 correctas       | 1 como *lemon*, 1 como *orange* | Mejoró respecto a k=1 (antes 0 aciertos). Ahora logra identificar algunas manzanas. |\n",
        "| **Lemon (limón)**        | 2 de 5 correctas       | 1 como *apple*, 2 como *orange* | Sigue habiendo confusión, especialmente con *orange*.                               |\n",
        "| **Mandarin (mandarina)** | 2 de 2 correctas       | 0 errores                       | Perfecta, igual que antes.                                                          |\n",
        "| **Orange (naranja)**     | 3 de 4 correctas       | 1 como *lemon*                  | Buen desempeño, pero con cierta confusión con limones.                              |  \n",
        "\n",
        "**Reporte de clasificación:**  \n",
        "\n",
        "\n",
        "| Clase        | Precision | Recall | F1-score | Support | Interpretación                                                                                                          |\n",
        "| ------------ | --------- | ------ | -------- | ------- | ----------------------------------------------------------------------------------------------------------------------- |\n",
        "| **apple**    | 0.67      | 0.50   | 0.57     | 4       | De las frutas predichas como *apple*, el 67% eran realmente manzanas, y logró detectar la mitad de las manzanas reales. |\n",
        "| **lemon**    | 0.50      | 0.40   | 0.44     | 5       | Metade de los limones reales fueron correctamente identificados, pero el modelo a veces los clasifica como *orange*.    |\n",
        "| **mandarin** | 1.00      | 1.00   | 1.00     | 2       | Separación clara y bien definida.                                                                                       |\n",
        "| **orange**   | 0.50      | 0.75   | 0.60     | 4       | Predice bien la mayoría de las naranjas, aunque confunde algunos limones como naranjas.                                 |  \n",
        "\n",
        "**Metricas Globales**\n",
        "\n",
        "\n",
        "| Métrica global      | Valor | Interpretación                           |\n",
        "| ------------------- | ----- | ---------------------------------------- |\n",
        "| **Accuracy**        | 0.60  | Mejoró de 0.53 → 0.60                   |\n",
        "| **Macro avg F1**    | 0.65  | Promedio balanceado, más estable         |\n",
        "| **Weighted avg F1** | 0.59  | Pondera por tamaño de clase, mejora leve |\n"
      ],
      "metadata": {
        "id": "UonnPspuCTh8"
      },
      "id": "UonnPspuCTh8"
    },
    {
      "cell_type": "markdown",
      "id": "3c8ded3f-c130-499d-8a2b-8a2324840e48",
      "metadata": {
        "id": "3c8ded3f-c130-499d-8a2b-8a2324840e48"
      },
      "source": [
        "## **Modelo de clasificación usando parametro k = 5, es decir, 5 vecinos**"
      ]
    },
    {
      "cell_type": "code",
      "execution_count": 14,
      "id": "e9e97871-0bc1-4890-b29a-707b7955dc1a",
      "metadata": {
        "id": "e9e97871-0bc1-4890-b29a-707b7955dc1a",
        "outputId": "c0bd81eb-59be-4ab5-c5d6-28aed98e60ae",
        "colab": {
          "base_uri": "https://localhost:8080/"
        }
      },
      "outputs": [
        {
          "output_type": "stream",
          "name": "stdout",
          "text": [
            "Precision del clasificador en fase de entrenamiento 0.8181818181818182\n"
          ]
        }
      ],
      "source": [
        "#Definimos el clasificador KNN , definimos 5 vecinos\n",
        "clasificador_KNN5 = KNeighborsClassifier(n_neighbors= 5 )\n",
        "\n",
        "# realizar el entrenamiento con las variables definidas\n",
        "clasificador_KNN5.fit(X_train, y_train)\n",
        "print(\"Precision del clasificador en fase de entrenamiento\",\n",
        "      clasificador_KNN5.score(X_train, y_train) )"
      ]
    },
    {
      "cell_type": "code",
      "execution_count": 15,
      "id": "454cdce2-5bca-4e96-b55f-1c722e6ac144",
      "metadata": {
        "id": "454cdce2-5bca-4e96-b55f-1c722e6ac144",
        "outputId": "90e24cc2-aec5-4a85-f916-0f04b44cedb7",
        "colab": {
          "base_uri": "https://localhost:8080/"
        }
      },
      "outputs": [
        {
          "output_type": "stream",
          "name": "stdout",
          "text": [
            "Reporte de métricas del clasificador: \n",
            "               precision    recall  f1-score   support\n",
            "\n",
            "       apple       0.67      0.50      0.57         4\n",
            "       lemon       0.50      0.40      0.44         5\n",
            "    mandarin       1.00      1.00      1.00         2\n",
            "      orange       0.50      0.75      0.60         4\n",
            "\n",
            "    accuracy                           0.60        15\n",
            "   macro avg       0.67      0.66      0.65        15\n",
            "weighted avg       0.61      0.60      0.59        15\n",
            "\n",
            "Precisión: 0.6\n"
          ]
        }
      ],
      "source": [
        "# Realizar una prediccion con los datos de prueba\n",
        "y_pred = clasificador_KNN5.predict(X_test)\n",
        "\n",
        "# Crear un informe de texto que muestre las principales métricas de clasificación.\n",
        "print(\"Reporte de métricas del clasificador: \\n\", classification_report(y_test, y_pred))\n",
        "\n",
        "# Coeficiente de determinación\n",
        "print( \"Precisión:\", clasificador_KNN5.score(X_test, y_test) )"
      ]
    },
    {
      "cell_type": "code",
      "source": [
        "# Resumen de las predicciones realizadas por el clasificador\n",
        "print (\"Matriz de confusión:\\n\", confusion_matrix(y_test, y_pred), \"\\n\")"
      ],
      "metadata": {
        "colab": {
          "base_uri": "https://localhost:8080/"
        },
        "id": "CWWJCJk8Ez_b",
        "outputId": "155b42be-4828-484b-cf56-c8f383483b2b"
      },
      "id": "CWWJCJk8Ez_b",
      "execution_count": 16,
      "outputs": [
        {
          "output_type": "stream",
          "name": "stdout",
          "text": [
            "Matriz de confusión:\n",
            " [[2 1 0 1]\n",
            " [1 2 0 2]\n",
            " [0 0 2 0]\n",
            " [0 1 0 3]] \n",
            "\n"
          ]
        }
      ]
    },
    {
      "cell_type": "markdown",
      "source": [
        "### **Interpretación**\n",
        "\n",
        "* **Los resultados son similares a los obtenidos con k=3.**"
      ],
      "metadata": {
        "id": "SKxy-Y4DG3Kf"
      },
      "id": "SKxy-Y4DG3Kf"
    },
    {
      "cell_type": "markdown",
      "source": [
        "## **Probar distintos valores de k**"
      ],
      "metadata": {
        "id": "stIyCb8JE_Jq"
      },
      "id": "stIyCb8JE_Jq"
    },
    {
      "cell_type": "code",
      "execution_count": 17,
      "id": "a54252f4-acde-4c88-a349-54bbb97e71fe",
      "metadata": {
        "id": "a54252f4-acde-4c88-a349-54bbb97e71fe",
        "colab": {
          "base_uri": "https://localhost:8080/"
        },
        "outputId": "15e686ee-3e68-42c4-f1a2-21ad4a471c83"
      },
      "outputs": [
        {
          "output_type": "stream",
          "name": "stdout",
          "text": [
            "k=1 → Precisión: 0.53\n",
            "k=2 → Precisión: 0.53\n",
            "k=3 → Precisión: 0.60\n",
            "k=4 → Precisión: 0.60\n",
            "k=5 → Precisión: 0.60\n",
            "k=6 → Precisión: 0.40\n",
            "k=7 → Precisión: 0.60\n",
            "k=8 → Precisión: 0.53\n",
            "k=9 → Precisión: 0.53\n",
            "k=10 → Precisión: 0.53\n",
            "k=11 → Precisión: 0.47\n",
            "k=12 → Precisión: 0.47\n",
            "k=13 → Precisión: 0.47\n",
            "k=14 → Precisión: 0.47\n",
            "k=15 → Precisión: 0.40\n",
            "k=16 → Precisión: 0.40\n",
            "k=17 → Precisión: 0.40\n",
            "k=18 → Precisión: 0.47\n",
            "k=19 → Precisión: 0.40\n"
          ]
        }
      ],
      "source": [
        "for k in range(1, 20):\n",
        "    knn = KNeighborsClassifier(n_neighbors=k)\n",
        "    knn.fit(X_train, y_train)\n",
        "    print(f\"k={k} → Precisión: {knn.score(X_test, y_test):.2f}\")\n"
      ]
    },
    {
      "cell_type": "markdown",
      "source": [
        "### **Interpretacion de estos resultados**\n",
        "\n",
        "**k muy pequeño (1–2)**\n",
        "* El modelo se sobreajusta (overfitting):\n",
        "* Clasifica casi idénticamente a los ejemplos de entrenamiento.  \n",
        "\n",
        "**k intermedio (3–5)**\n",
        "* El modelo alcanza su máxima estabilidad y generalización.\n",
        "* Precisión más alta (0.60).\n",
        "\n",
        "**k grande (>6)**\n",
        "* El modelo empieza a subajustar (underfitting):\n",
        "* Promedia demasiados vecinos.\n",
        "* Pierde la capacidad de distinguir clases con pocos datos (como mandarin o apple).\n",
        "* Precisión baja (0.40–0.47)."
      ],
      "metadata": {
        "id": "Dl6QiZIcGSAr"
      },
      "id": "Dl6QiZIcGSAr"
    },
    {
      "cell_type": "markdown",
      "source": [
        "### **Otras alternativas para Intentar mejorar el rendimiento**\n",
        "\n",
        "* Probar distintas **métricas de distancia**.\n",
        "* Por defecto KNN usa distancia Euclidiana, pero se puede cambiar, por ejemplo: **metric='manhattan'**.\n",
        "* Ajustar la normalización de datos\n"
      ],
      "metadata": {
        "id": "eokuCpHoxbiM"
      },
      "id": "eokuCpHoxbiM"
    },
    {
      "cell_type": "code",
      "source": [
        "from sklearn.preprocessing import StandardScaler\n",
        "\n",
        "X = frutas[[\"height\", \"width\", \"mass\", \"color_score\"]]\n",
        "y = frutas[\"fruit_name\"]\n",
        "\n",
        "# Dividir primero, stratify es para que mantenga la misma proporción de clases en ambos conjuntos\n",
        "X_train, X_test, y_train, y_test = train_test_split( X, y,  random_state=42, stratify=y)\n",
        "\n",
        "# Normalizar variables (KNN es sensible a la escala) y Escalar correctamente\n",
        "scaler = StandardScaler()\n",
        "X_train_scaled = scaler.fit_transform(X_train)\n",
        "X_test_scaled = scaler.transform(X_test)\n",
        "\n",
        "# Entrenar KNN\n",
        "knn_scaled = KNeighborsClassifier(n_neighbors=3)\n",
        "knn_scaled.fit(X_train_scaled, y_train)\n",
        "\n",
        "y_pred_scaled = knn_scaled.predict(X_test_scaled)\n",
        "print(\"\\nReporte de clasificación:\")\n",
        "print(classification_report(y_test, y_pred_scaled))"
      ],
      "metadata": {
        "colab": {
          "base_uri": "https://localhost:8080/"
        },
        "id": "XP-ZqySnxUan",
        "outputId": "9c9ebcd9-b623-4cc8-f22f-fbdabb9123f2"
      },
      "id": "XP-ZqySnxUan",
      "execution_count": 31,
      "outputs": [
        {
          "output_type": "stream",
          "name": "stdout",
          "text": [
            "\n",
            "Reporte de clasificación:\n",
            "              precision    recall  f1-score   support\n",
            "\n",
            "       apple       1.00      0.80      0.89         5\n",
            "       lemon       1.00      1.00      1.00         4\n",
            "    mandarin       1.00      1.00      1.00         1\n",
            "      orange       0.83      1.00      0.91         5\n",
            "\n",
            "    accuracy                           0.93        15\n",
            "   macro avg       0.96      0.95      0.95        15\n",
            "weighted avg       0.94      0.93      0.93        15\n",
            "\n"
          ]
        }
      ]
    },
    {
      "cell_type": "markdown",
      "source": [
        "### **Interpretación**\n",
        "\n",
        "Como primera observación, el modelo KNN con datos escalados está funcionando mucho mejor, y eso tiene sentido:\n",
        "**KNN mide distancias entre puntos** (usualmente con Euclídea), por lo que **si las variables no están en la misma escala, las que tienen valores más grandes dominan la distancia total.**\n",
        "\n",
        "\n",
        "| Clase        | Precision | Recall | F1-score | Interpretación                                                                                          |\n",
        "| ------------ | --------- | ------ | -------- | ------------------------------------------------------------------------------------------------------- |\n",
        "| **apple**    | 0.80      | 1.00   | 0.89     | De todas las predicciones “apple”, el 80% fueron correctas, y se reconocieron todos los “apple” reales. |\n",
        "| **lemon**    | 1.00      | 1.00   | 1.00     | Perfecto: el modelo clasificó todos los “lemon” correctamente.                                          |\n",
        "| **mandarin** | 1.00      | 1.00   | 1.00     | Perfecto también, aunque hay pocas muestras (2).                                                        |\n",
        "| **orange**   | 1.00      | 0.75   | 0.86     | Predijo bien todos los “orange” que clasificó, pero dejó pasar algunos (25% no detectados).             |  \n",
        "\n",
        "\n"
      ],
      "metadata": {
        "id": "3xtHCA7j7Kb4"
      },
      "id": "3xtHCA7j7Kb4"
    },
    {
      "cell_type": "code",
      "source": [
        "# Resumen de las predicciones realizadas por el clasificador\n",
        "print (\"Matriz de confusión:\\n\", confusion_matrix(y_test, y_pred_scaled), \"\\n\")"
      ],
      "metadata": {
        "colab": {
          "base_uri": "https://localhost:8080/"
        },
        "id": "8y2vI7gMxUlW",
        "outputId": "a49aff8c-673b-44c1-ba76-2147ee4fb8f1"
      },
      "id": "8y2vI7gMxUlW",
      "execution_count": 34,
      "outputs": [
        {
          "output_type": "stream",
          "name": "stdout",
          "text": [
            "Matriz de confusión:\n",
            " [[4 0 0 0]\n",
            " [0 5 0 0]\n",
            " [0 0 2 0]\n",
            " [1 0 0 3]] \n",
            "\n"
          ]
        }
      ]
    },
    {
      "cell_type": "markdown",
      "source": [
        "\n",
        "\n",
        "               Predicción\n",
        "              A   L   M   O\n",
        "Real       ┌────────────────┐\n",
        "Apple   →  | 4   0   0   0 |\n",
        "Lemon   →  | 0   5   0   0 |\n",
        "Mandarin→  | 0   0   2   0 |\n",
        "Orange  →  | 1   0   0   3 |\n",
        "           └────────────────┘\n",
        "\n",
        "| Clase real   | Predicciones correctas | Predicciones incorrectas     | Interpretación                                           |\n",
        "| ------------ | ---------------------- | ---------------------------- | -------------------------------------------------------- |\n",
        "| **Apple**    | 4/4                    | 0                            | Todas las manzanas fueron clasificadas correctamente.  |\n",
        "| **Lemon**    | 5/5                    | 0                            | Los limones también fueron clasificados perfectamente. |\n",
        "| **Mandarin** | 2/2                    | 0                            | Las mandarinas fueron identificadas sin errores.       |\n",
        "| **Orange**   | 3/4                    | 1 (clasificada como “apple”) | Un naranja fue confundido con una manzana.            |  \n",
        "\n",
        "### **Conclusiones**\n",
        "\n",
        "* El modelo identifica correctamente el 93% de las frutas.\n",
        "* Todas las clases están bien representadas (gracias al stratify=y).\n",
        "* El escalado fue clave para mejorar el rendimiento.\n",
        "* Solo una confusión: una naranja que se parece demasiado a una manzana en los valores de altura, ancho o color_score.\n"
      ],
      "metadata": {
        "id": "kFuOqJn88YWe"
      },
      "id": "kFuOqJn88YWe"
    },
    {
      "cell_type": "markdown",
      "source": [
        "### **Probando otro metodo de normalización = MinMaxScaler**\n"
      ],
      "metadata": {
        "id": "FTIkHX799Ju9"
      },
      "id": "FTIkHX799Ju9"
    },
    {
      "cell_type": "code",
      "source": [
        "from sklearn.preprocessing import MinMaxScaler\n",
        "scaler = MinMaxScaler()\n",
        "\n",
        "X_scaled = scaler.fit_transform(X)\n",
        "\n",
        "# Dividir en entrenamiento y prueba con los datos escalados\n",
        "X_train, X_test, y_train, y_test = train_test_split(\n",
        "    X_scaled, y, random_state=42)\n",
        "\n",
        "knn_scaled = KNeighborsClassifier(n_neighbors=3)\n",
        "knn_scaled.fit(X_train, y_train)\n",
        "\n",
        "y_pred_scaled = knn_scaled.predict(X_test)\n",
        "print(\"\\nReporte de clasificación:\")\n",
        "print(classification_report(y_test, y_pred_scaled))"
      ],
      "metadata": {
        "colab": {
          "base_uri": "https://localhost:8080/"
        },
        "id": "zRhtRakFytmJ",
        "outputId": "63c1ba14-a724-42ce-f5b3-59b0dc383a8d"
      },
      "id": "zRhtRakFytmJ",
      "execution_count": 35,
      "outputs": [
        {
          "output_type": "stream",
          "name": "stdout",
          "text": [
            "\n",
            "Reporte de clasificación:\n",
            "              precision    recall  f1-score   support\n",
            "\n",
            "       apple       0.80      1.00      0.89         4\n",
            "       lemon       1.00      1.00      1.00         5\n",
            "    mandarin       1.00      1.00      1.00         2\n",
            "      orange       1.00      0.75      0.86         4\n",
            "\n",
            "    accuracy                           0.93        15\n",
            "   macro avg       0.95      0.94      0.94        15\n",
            "weighted avg       0.95      0.93      0.93        15\n",
            "\n"
          ]
        }
      ]
    },
    {
      "cell_type": "code",
      "source": [
        "print (\"Matriz de confusión:\\n\", confusion_matrix(y_test, y_pred_scaled), \"\\n\")"
      ],
      "metadata": {
        "colab": {
          "base_uri": "https://localhost:8080/"
        },
        "id": "34N0Ms1nytsh",
        "outputId": "ef8de059-695f-4a34-b87c-e3310f7c0d01"
      },
      "id": "34N0Ms1nytsh",
      "execution_count": 36,
      "outputs": [
        {
          "output_type": "stream",
          "name": "stdout",
          "text": [
            "Matriz de confusión:\n",
            " [[4 0 0 0]\n",
            " [0 5 0 0]\n",
            " [0 0 2 0]\n",
            " [1 0 0 3]] \n",
            "\n"
          ]
        }
      ]
    },
    {
      "cell_type": "markdown",
      "source": [
        "## **Interpretacion**\n",
        "* Los resultados sonmuy similares al método anterior, pero, mucho mejor sin usar el escalamiento de los datos"
      ],
      "metadata": {
        "id": "_rdsi_ir9Rzb"
      },
      "id": "_rdsi_ir9Rzb"
    },
    {
      "cell_type": "markdown",
      "id": "8fd0fd70-b3ed-4a08-8614-047e8d820372",
      "metadata": {
        "id": "8fd0fd70-b3ed-4a08-8614-047e8d820372"
      },
      "source": [
        "## **Implementación del modelo para Predicciones sobre nuevas frutas (ficticios)**"
      ]
    },
    {
      "cell_type": "code",
      "execution_count": 38,
      "id": "21743aad",
      "metadata": {
        "id": "21743aad",
        "outputId": "b79f7924-f3bf-44a9-c61b-1bd0348a0f6a",
        "colab": {
          "base_uri": "https://localhost:8080/"
        }
      },
      "outputs": [
        {
          "output_type": "stream",
          "name": "stdout",
          "text": [
            "la fruta 1 con caraceristicas  [[5.5, 2.2, 150, 0.7]] es de tipo ['orange']\n"
          ]
        }
      ],
      "source": [
        "# Especificamos las medidas de una fruta en una lista de valores\n",
        "#  altura, ancho, masa, escala de color\n",
        "\n",
        "fruta1 = [[5.5, 2.2, 150, 0.70]]\n",
        "print(\"la fruta 1 con caraceristicas \", fruta1, \"es de tipo\",\n",
        "     knn_scaled.predict(fruta1))"
      ]
    },
    {
      "cell_type": "code",
      "execution_count": 42,
      "id": "2ef6937e",
      "metadata": {
        "id": "2ef6937e",
        "outputId": "ef41ce92-58b6-4571-a69e-cafaaec725ed",
        "colab": {
          "base_uri": "https://localhost:8080/"
        }
      },
      "outputs": [
        {
          "output_type": "stream",
          "name": "stdout",
          "text": [
            "las frutas con caraceristicas  [[5.5, 2.2, 120, 0.7], [2, 2, 160, 0.5]] son de tipo: ['orange' 'orange']\n"
          ]
        }
      ],
      "source": [
        "# 2 frutas\n",
        "#  altura, ancho, masa, escala de color\n",
        "frutas = [[5.5, 2.2, 120, 0.70], [2, 2, 160, 0.50 ]]\n",
        "print(\"las frutas con caraceristicas \", frutas, \"son de tipo:\",\n",
        "     knn_scaled.predict(frutas))"
      ]
    },
    {
      "cell_type": "code",
      "execution_count": null,
      "id": "f74fdece",
      "metadata": {
        "id": "f74fdece"
      },
      "outputs": [],
      "source": []
    }
  ],
  "metadata": {
    "kernelspec": {
      "display_name": "Python [conda env:base] *",
      "language": "python",
      "name": "conda-base-py"
    },
    "language_info": {
      "codemirror_mode": {
        "name": "ipython",
        "version": 3
      },
      "file_extension": ".py",
      "mimetype": "text/x-python",
      "name": "python",
      "nbconvert_exporter": "python",
      "pygments_lexer": "ipython3",
      "version": "3.11.5"
    },
    "colab": {
      "provenance": [],
      "include_colab_link": true
    }
  },
  "nbformat": 4,
  "nbformat_minor": 5
}