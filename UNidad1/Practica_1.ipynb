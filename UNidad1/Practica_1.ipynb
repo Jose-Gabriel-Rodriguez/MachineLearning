{
  "nbformat": 4,
  "nbformat_minor": 0,
  "metadata": {
    "colab": {
      "provenance": [],
      "authorship_tag": "ABX9TyMWrndQobgCg7Il/TD8RS+b",
      "include_colab_link": true
    },
    "kernelspec": {
      "name": "python3",
      "display_name": "Python 3"
    },
    "language_info": {
      "name": "python"
    }
  },
  "cells": [
    {
      "cell_type": "markdown",
      "metadata": {
        "id": "view-in-github",
        "colab_type": "text"
      },
      "source": [
        "<a href=\"https://colab.research.google.com/github/Jose-Gabriel-Rodriguez/MachineLearning/blob/main/UNidad1/Practica_1.ipynb\" target=\"_parent\"><img src=\"https://colab.research.google.com/assets/colab-badge.svg\" alt=\"Open In Colab\"/></a>"
      ]
    },
    {
      "cell_type": "markdown",
      "source": [],
      "metadata": {
        "id": "ectG_ZhyCYJM"
      }
    },
    {
      "cell_type": "markdown",
      "source": [
        "# **Asignatura:  Machine Learning**\n",
        "\n",
        "### **Unidad 1**\n",
        "\n",
        "**Docente: Jose Gabriel Rodriguez Rivas**\n",
        "\n",
        "Alumno: _______________________\n",
        "\n",
        "\n",
        "Practica 1: Datawrangling\n",
        "\n",
        "\n"
      ],
      "metadata": {
        "id": "3KE4KoXDAvBR"
      }
    },
    {
      "cell_type": "code",
      "execution_count": null,
      "metadata": {
        "id": "sh3_6iJZAq1j"
      },
      "outputs": [],
      "source": []
    },
    {
      "cell_type": "code",
      "source": [],
      "metadata": {
        "id": "0d6U6XVHBrEx"
      },
      "execution_count": null,
      "outputs": []
    },
    {
      "cell_type": "code",
      "source": [],
      "metadata": {
        "id": "2KoZAaquBrHw"
      },
      "execution_count": null,
      "outputs": []
    }
  ]
}